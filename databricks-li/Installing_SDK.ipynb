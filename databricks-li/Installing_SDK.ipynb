{
 "cells": [
  {
   "cell_type": "markdown",
   "metadata": {
    "application/vnd.databricks.v1+cell": {
     "cellMetadata": {},
     "inputWidgets": {},
     "nuid": "b31a0920-6ebd-4ad7-963b-fe03b1db56aa",
     "showTitle": false,
     "title": ""
    }
   },
   "source": [
    "# Location Intelligence SDK For Big Data in Databricks - Installation\n",
    "This is a installation file having information about how to install all the required configurations."
   ]
  },
  {
   "cell_type": "markdown",
   "metadata": {
    "application/vnd.databricks.v1+cell": {
     "cellMetadata": {},
     "inputWidgets": {},
     "nuid": "143f74e9-58b4-40c8-8292-51019b275240",
     "showTitle": false,
     "title": ""
    }
   },
   "source": [
    "# Configuration and Creating Environment Variables"
   ]
  },
  {
   "cell_type": "code",
   "execution_count": 0,
   "metadata": {
    "application/vnd.databricks.v1+cell": {
     "cellMetadata": {
      "byteLimit": 2048000,
      "rowLimit": 10000
     },
     "inputWidgets": {},
     "nuid": "cf8008ee-00f3-4506-8f4e-c7c109710dbf",
     "showTitle": true,
     "title": "Configuration and Variables"
    }
   },
   "outputs": [
    {
     "name": "stdout",
     "output_type": "stream",
     "text": [
      "Wrote 486 bytes.\n"
     ]
    },
    {
     "data": {
      "text/plain": [
       "True"
      ]
     },
     "execution_count": 15,
     "metadata": {},
     "output_type": "execute_result"
    }
   ],
   "source": [
    "# SDK Download URL\n",
    "SDK_URL = \"YOUR_PRESIGNED_URL_FOR_SDK\"\n",
    "\n",
    "# The SDK jar is copied to this user's workspace for installing it in cluster as a Library. (/Workspace/Users/<username>/$SDK_EXTRACT_LOCATION)\n",
    "USERNAME = \"Shardul.Rajhans@precisely.com\"\n",
    "\n",
    "# We will be installing to the following directory. You can change the directory to suit your environment\n",
    "LI_ROOT_DBFS = \"/precisely/li\"\n",
    "\n",
    "# SDK Release Version\n",
    "SDK_RELEASE_VERSION = \"5.2.1\"\n",
    "\n",
    "# Local Environment Setup - The remaining lines should not need to be modified\n",
    "DBFS_SDK_EXTRACT_LOCATION = f\"{LI_ROOT_DBFS}/location-intelligence-bigdata-distribution-{SDK_RELEASE_VERSION}\"\n",
    "DBFS_SDK_DOWNLOAD_LOCATION = f\"{LI_ROOT_DBFS}/location-intelligence-bigdata-distribution-{SDK_RELEASE_VERSION}.zip\"\n",
    "\n",
    "# We did this in any %sh command to ensure variables are available in the environment.\n",
    "dbutils.fs.put(\"file:///dbricks_env.sh\", f\"\"\"#!/bin/bash\n",
    "\n",
    "export SDK_URL=\"{SDK_URL}\"\n",
    "export SDK_EXTRACT_LOCATION={DBFS_SDK_EXTRACT_LOCATION}\n",
    "export DBFS_SDK_EXTRACT_LOCATION=/dbfs{DBFS_SDK_EXTRACT_LOCATION}\n",
    "export DBFS_SDK_DOWNLOAD_LOCATION=/dbfs{DBFS_SDK_DOWNLOAD_LOCATION}\n",
    "export USERNAME={USERNAME}\n",
    "\"\"\", True)"
   ]
  },
  {
   "cell_type": "markdown",
   "metadata": {
    "application/vnd.databricks.v1+cell": {
     "cellMetadata": {},
     "inputWidgets": {},
     "nuid": "507d0376-f947-4e36-83b3-0100fe39550e",
     "showTitle": false,
     "title": ""
    }
   },
   "source": [
    "# Download and Extract Location Intelligence SDK For Big Data Distribution Zip"
   ]
  },
  {
   "cell_type": "code",
   "execution_count": 0,
   "metadata": {
    "application/vnd.databricks.v1+cell": {
     "cellMetadata": {
      "byteLimit": 2048000,
      "rowLimit": 10000
     },
     "inputWidgets": {},
     "nuid": "bbb36782-ce75-4282-b871-fbf0e8246d5d",
     "showTitle": true,
     "title": "Install SDK to DBFS"
    }
   },
   "outputs": [],
   "source": [
    "%sh . /dbricks_env.sh\n",
    "\n",
    "rm -rf $DBFS_SDK_EXTRACT_LOCATION\n",
    "rm -rf $DBFS_SDK_DOWNLOAD_LOCATION\n",
    "mkdir -p $DBFS_SDK_EXTRACT_LOCATION\n",
    "\n",
    "if [ ! -z \"$SDK_URL\" ]\n",
    "then\n",
    "  echo \"Downloading location intelligence sdk...\"\n",
    "  curl -o $DBFS_SDK_DOWNLOAD_LOCATION \"$SDK_URL\"\n",
    "  unzip -d $DBFS_SDK_EXTRACT_LOCATION $DBFS_SDK_DOWNLOAD_LOCATION\n",
    "else\n",
    "  echo \"Not downloading the location intelligence sdk\"\n",
    "fi"
   ]
  },
  {
   "cell_type": "markdown",
   "metadata": {
    "application/vnd.databricks.v1+cell": {
     "cellMetadata": {},
     "inputWidgets": {},
     "nuid": "2db10208-5d7a-4f94-a0b5-b8e9731a5201",
     "showTitle": false,
     "title": ""
    }
   },
   "source": [
    "# Add Location Intelligence SDK JAR as a Library in your Databricks Cluster"
   ]
  },
  {
   "cell_type": "code",
   "execution_count": 0,
   "metadata": {
    "application/vnd.databricks.v1+cell": {
     "cellMetadata": {
      "byteLimit": 2048000,
      "rowLimit": 10000
     },
     "inputWidgets": {},
     "nuid": "c16f690c-8b3e-46c7-9fce-d3f0b43496f4",
     "showTitle": false,
     "title": ""
    }
   },
   "outputs": [
    {
     "name": "stdout",
     "output_type": "stream",
     "text": [
      "If Databricks Runtime Version is less than 15.*, you should attach the following jar as Library to your cluster:\n",
      "dbfs:/precisely/li/location-intelligence-bigdata-distribution-5.2.1/pyspark/sdk/lib/location-intelligence-bigdata-li-sdk-spark3_2.12-5.2.1.jar\n"
     ]
    }
   ],
   "source": [
    "%sh . /dbricks_env.sh\n",
    "\n",
    "echo \"If Databricks Runtime Version is less than 15.*, you should attach the following jar as Library to your cluster:\"\n",
    "ls $DBFS_SDK_EXTRACT_LOCATION/pyspark/sdk/lib/location-intelligence-bigdata*.jar | sed 's/\\/dbfs/dbfs:/'"
   ]
  },
  {
   "cell_type": "markdown",
   "metadata": {
    "application/vnd.databricks.v1+cell": {
     "cellMetadata": {},
     "inputWidgets": {},
     "nuid": "dfbea151-cbd2-4ecc-b615-bce13951ce11",
     "showTitle": false,
     "title": ""
    }
   },
   "source": [
    "# For Databricks Version 15.1 and Above\n",
    "\n",
    "From Databricks Version above 14.3 LTS, DBFS libraries support is being removed.\n",
    "Copy the SDK Jar which needs to be added as a Library in your User's Workspace."
   ]
  },
  {
   "cell_type": "code",
   "execution_count": 0,
   "metadata": {
    "application/vnd.databricks.v1+cell": {
     "cellMetadata": {
      "byteLimit": 2048000,
      "rowLimit": 10000
     },
     "inputWidgets": {},
     "nuid": "e9c58a06-4390-45a8-af40-28ada80450ba",
     "showTitle": false,
     "title": ""
    }
   },
   "outputs": [
    {
     "name": "stdout",
     "output_type": "stream",
     "text": [
      "You can now attach the following SKD jar as a Databricks Library to any cluster.\n",
      "/Workspace/Users/Shardul.Rajhans@precisely.com/precisely/li/location-intelligence-bigdata-distribution-5.2.1/location-intelligence-bigdata-li-sdk-spark3_2.12-5.2.1.jar\n"
     ]
    }
   ],
   "source": [
    "%sh . /dbricks_env.sh\n",
    "\n",
    "rm -rf /Workspace/Users/$USERNAME$SDK_EXTRACT_LOCATION/location-intelligence-bigdata*.jar\n",
    "mkdir -p /Workspace/Users/$USERNAME$SDK_EXTRACT_LOCATION\n",
    "cp -r $DBFS_SDK_EXTRACT_LOCATION/pyspark/sdk/lib/location-intelligence-bigdata*.jar /Workspace/Users/$USERNAME$SDK_EXTRACT_LOCATION/\n",
    "echo \"You can now attach the following SKD jar as a Databricks Library to any cluster.\"\n",
    "ls /Workspace/Users/$USERNAME$SDK_EXTRACT_LOCATION/location-intelligence-bigdata*.jar"
   ]
  }
 ],
 "metadata": {
  "application/vnd.databricks.v1+notebook": {
   "dashboards": [],
   "environmentMetadata": null,
   "language": "python",
   "notebookMetadata": {
    "mostRecentlyExecutedCommandWithImplicitDF": {
     "commandId": 144679850279608,
     "dataframes": [
      "_sqldf"
     ]
    },
    "pythonIndentUnit": 2
   },
   "notebookName": "Installing_SDK",
   "widgets": {}
  },
  "kernelspec": {
   "display_name": "Python 3.9.13 64-bit",
   "language": "python",
   "name": "python3"
  },
  "language_info": {
   "name": "python",
   "version": "3.9.13"
  },
  "vscode": {
   "interpreter": {
    "hash": "11938c6bc6919ae2720b4d5011047913343b08a43b18698fd82dedb0d4417594"
   }
  }
 },
 "nbformat": 4,
 "nbformat_minor": 0
}
