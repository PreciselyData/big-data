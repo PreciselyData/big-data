{
 "cells": [
  {
   "cell_type": "markdown",
   "metadata": {
    "application/vnd.databricks.v1+cell": {
     "cellMetadata": {},
     "inputWidgets": {},
     "nuid": "a898be8b-d6c2-4d2a-a9e8-b26b3878a3e8",
     "showTitle": false,
     "title": ""
    }
   },
   "source": [
    "# Geo Addressing Demo\n",
    "In this notebook the geocoder will be configured, some sample data will be created, and geocodes will be executed using the data.\n",
    "Before executing this notebook make sure to have completed executing all cells in Addressing Installation notebook."
   ]
  },
  {
   "cell_type": "code",
   "execution_count": 0,
   "metadata": {
    "application/vnd.databricks.v1+cell": {
     "cellMetadata": {
      "byteLimit": 2048000,
      "rowLimit": 10000
     },
     "inputWidgets": {},
     "nuid": "7320d37b-e704-4397-a42d-fbe057d5b143",
     "showTitle": true,
     "title": "Java Version"
    }
   },
   "outputs": [
    {
     "name": "stderr",
     "output_type": "stream",
     "text": [
      "openjdk version \"17.0.11\" 2024-04-16 LTS\n",
      "OpenJDK Runtime Environment Zulu17.50+19-CA (build 17.0.11+9-LTS)\n",
      "OpenJDK 64-Bit Server VM Zulu17.50+19-CA (build 17.0.11+9-LTS, mixed mode, sharing)\n"
     ]
    }
   ],
   "source": [
    "%sh\n",
    "# make sure java version is at least jdk-11\n",
    "# from databricks runtime 15.*,  you can add JNAME=zulu17-ca-amd64 as environment variable and restart the cluster\n",
    "# till databricks runtime version 15.*. you can add JNAME=zulu11-ca-amd64 as environment variable and restart the cluster\n",
    "java -version"
   ]
  },
  {
   "cell_type": "code",
   "execution_count": 0,
   "metadata": {
    "application/vnd.databricks.v1+cell": {
     "cellMetadata": {
      "byteLimit": 2048000,
      "rowLimit": 10000
     },
     "inputWidgets": {},
     "nuid": "5b7a2ea9-1240-485c-b1a2-5e206bcd9d56",
     "showTitle": true,
     "title": "Spark Session"
    }
   },
   "outputs": [],
   "source": [
    "# Import the required PySpark Libraries\n",
    "from pyspark.sql.functions import *\n",
    "from pyspark.sql import SparkSession\n",
    "from pyspark.sql.types import *\n",
    "\n",
    "spark = SparkSession.builder \\\n",
    "  .config(\"spark.sql.legacy.allowUntypedScalaUDF\", True) \\\n",
    "  .getOrCreate()"
   ]
  },
  {
   "cell_type": "code",
   "execution_count": 0,
   "metadata": {
    "application/vnd.databricks.v1+cell": {
     "cellMetadata": {
      "byteLimit": 2048000,
      "rowLimit": 10000
     },
     "inputWidgets": {},
     "nuid": "df9d55c2-f8fe-4cb6-b5d9-d84941c5823b",
     "showTitle": true,
     "title": "Create Geocode UDF"
    }
   },
   "outputs": [],
   "source": [
    "addressing_sdk_location = \"/dbfs/precisely/addressing/geo-addressing-bigdata-distribution-5.2.1\"\n",
    "resources_location = f\"{addressing_sdk_location}/resources\"\n",
    "sdk_zip_path = f\"{addressing_sdk_location}/pyspark/sdk/lib/geo-addressing-bigdata-addressing-sdk-pyspark-5.2.1.zip\"\n",
    "\n",
    "# Adding the Python SDK files to the SparkContext\n",
    "sc.addPyFile(sdk_zip_path)\n",
    "\n",
    "# Import all the required classes\n",
    "from addressing.DownloadManagerBuilder import DownloadManagerBuilder\n",
    "from addressing.AddressingBuilder import AddressingBuilder\n",
    "from addressing.HDFSDownloader import HDFSDownloader\n",
    "from addressing.S3Downloader import S3Downloader\n",
    "from addressing.LocalFilePassthroughDownloader import LocalFilePassthroughDownloader\n",
    "from addressing.PreferencesBuilder import PreferencesBuilder\n",
    "from addressing.HadoopConfiguration import HadoopConfiguration\n",
    "from addressing.UDFExecutor import UDFExecutor\n",
    "\n",
    "outputFields = [\"customFields['PB_KEY'] as PBKEY\", \n",
    "                \"address.formattedStreetAddress as FormattedAddress\",  \n",
    "                \"location.feature.geometry.coordinates.x as LON\", \n",
    "                \"location.feature.geometry.coordinates.y as LAT\"]\n",
    "# Create the Geocode UDF\n",
    "geocodeUdf = (\n",
    "  AddressingBuilder()\n",
    "  .withResourcesLocation(resources_location)\n",
    "  # Pass this only if addressing.yaml file absent in the resources/config directory.\n",
    "  # .withDataLocations(*data_location) \\\n",
    "  .udfBuilder()\n",
    "  .withOutputFields(*outputFields)\n",
    "  .withErrorField(\"error\")\n",
    "  .withResultAsJSON(\"resultJson\")\n",
    "  .forGeocode()\n",
    ")"
   ]
  },
  {
   "cell_type": "markdown",
   "metadata": {
    "application/vnd.databricks.v1+cell": {
     "cellMetadata": {},
     "inputWidgets": {},
     "nuid": "4b65345b-8436-4fc9-af57-931b9c72b3ea",
     "showTitle": false,
     "title": ""
    }
   },
   "source": [
    "## Build some test data or create your own udf."
   ]
  },
  {
   "cell_type": "code",
   "execution_count": 0,
   "metadata": {
    "application/vnd.databricks.v1+cell": {
     "cellMetadata": {
      "byteLimit": 2048000,
      "rowLimit": 10000
     },
     "inputWidgets": {},
     "nuid": "4e8e9862-fb5b-4d84-941c-10755543bcf5",
     "showTitle": false,
     "title": ""
    }
   },
   "outputs": [
    {
     "name": "stdout",
     "output_type": "stream",
     "text": [
      "+----------------------------------------+-------+\n",
      "|ADDRESS                                 |COUNTRY|\n",
      "+----------------------------------------+-------+\n",
      "|350 jordan rd ny 12180                  |USA    |\n",
      "|1 Global View troy ny 12180             |USA    |\n",
      "|222 Jersey City Blvd Jersey City NJ 7305|USA    |\n",
      "+----------------------------------------+-------+\n",
      "\n"
     ]
    }
   ],
   "source": [
    "data = [(\"350 jordan rd ny 12180\", \"USA\"), (\"1 Global View troy ny 12180\", \"USA\"), (\"222 Jersey City Blvd Jersey City NJ 7305\", \"USA\")]\n",
    "df = spark.createDataFrame(data=data, schema = [\"ADDRESS\", \"COUNTRY\"])\n",
    "df.show(5, truncate=False)"
   ]
  },
  {
   "cell_type": "markdown",
   "metadata": {
    "application/vnd.databricks.v1+cell": {
     "cellMetadata": {},
     "inputWidgets": {},
     "nuid": "18f48f6f-1558-43b2-a44e-3bea58e4131b",
     "showTitle": false,
     "title": ""
    }
   },
   "source": [
    "## NOTE: Please run some warm up calls to start the Geo Addressing Engine, before running on large data.\n",
    "Also, as the geocode operation can be computationally expensive, Adding a call to \"df.persist()\" directly after the geocode function should ensure that each record calls the geocode function only once."
   ]
  },
  {
   "cell_type": "code",
   "execution_count": 0,
   "metadata": {
    "application/vnd.databricks.v1+cell": {
     "cellMetadata": {
      "byteLimit": 2048000,
      "rowLimit": 10000
     },
     "inputWidgets": {},
     "nuid": "af275180-cbf7-4c14-9bc3-682b550d99cb",
     "showTitle": true,
     "title": "Run the Geocode Query"
    }
   },
   "outputs": [
    {
     "name": "stdout",
     "output_type": "stream",
     "text": [
      "+--------------------+-------+------------+--------------------+----------+---------+--------------------+-----+\n",
      "|             ADDRESS|COUNTRY|       PBKEY|    FormattedAddress|       LON|      LAT|          resultJson|error|\n",
      "+--------------------+-------+------------+--------------------+----------+---------+--------------------+-----+\n",
      "|350 jordan rd ny ...|    USA|P0000GL638OL|       350 JORDAN RD|-73.699929|42.678119|{\"score\":97,\"addr...| NULL|\n",
      "|1 Global View tro...|    USA|P0000GL41OME|         1 GLOBAL VW|-73.704443|42.682242|{\"score\":100,\"add...| NULL|\n",
      "|222 Jersey City B...|    USA|P0000FNYUEQH|222 JERSEY CITY BLVD|-74.054672|40.708214|{\"score\":97,\"addr...| NULL|\n",
      "+--------------------+-------+------------+--------------------+----------+---------+--------------------+-----+\n",
      "\n"
     ]
    }
   ],
   "source": [
    "geocodeDf = df.withColumn(\"result\", \n",
    "                   UDFExecutor() \\\n",
    "                   .apply(geocodeUdf,\n",
    "                          create_map(lit(\"addressLines[0]\"), col(\"ADDRESS\"),\n",
    "                                     lit(\"country\"), col(\"COUNTRY\")))) \\\n",
    "        .persist() \\\n",
    "        .select(\"*\", \"result.*\").drop(\"result\")\n",
    "\n",
    "geocodeDf.show(5)"
   ]
  },
  {
   "cell_type": "markdown",
   "metadata": {
    "application/vnd.databricks.v1+cell": {
     "cellMetadata": {},
     "inputWidgets": {},
     "nuid": "55772904-0ee0-4efd-8527-b4d20869ae5d",
     "showTitle": false,
     "title": ""
    }
   },
   "source": [
    "# Registering the geo addressing functionalities as UDFs and running the SQL queries\n",
    "\n",
    "You can now register the geo addressing functionalities as UDFs and start running SQL queries."
   ]
  },
  {
   "cell_type": "code",
   "execution_count": 0,
   "metadata": {
    "application/vnd.databricks.v1+cell": {
     "cellMetadata": {
      "byteLimit": 2048000,
      "rowLimit": 10000
     },
     "inputWidgets": {},
     "nuid": "c6047e49-0158-426a-af82-e90945057f85",
     "showTitle": false,
     "title": ""
    }
   },
   "outputs": [
    {
     "name": "stdout",
     "output_type": "stream",
     "text": [
      "+--------------------+-------+------------+--------------------+----------+---------+--------------------+-----+\n",
      "|             ADDRESS|COUNTRY|       PBKEY|    FormattedAddress|       LON|      LAT|          resultJson|error|\n",
      "+--------------------+-------+------------+--------------------+----------+---------+--------------------+-----+\n",
      "|350 jordan rd ny ...|    USA|P0000GL638OL|       350 JORDAN RD|-73.699929|42.678119|{\"score\":97,\"addr...| NULL|\n",
      "|1 Global View tro...|    USA|P0000GL41OME|         1 GLOBAL VW|-73.704443|42.682242|{\"score\":100,\"add...| NULL|\n",
      "|222 Jersey City B...|    USA|P0000FNYUEQH|222 JERSEY CITY BLVD|-74.054672|40.708214|{\"score\":97,\"addr...| NULL|\n",
      "+--------------------+-------+------------+--------------------+----------+---------+--------------------+-----+\n",
      "\n"
     ]
    }
   ],
   "source": [
    "geocodeUdf = (\n",
    "  AddressingBuilder()\n",
    "  .withResourcesLocation(resources_location)\n",
    "  # Pass this only if addressing.yaml file absent in the resources/config directory.\n",
    "  # .withDataLocations(*data_location) \\\n",
    "  .udfBuilder()\n",
    "  .withOutputFields(*outputFields)\n",
    "  .withErrorField(\"error\")\n",
    "  .withResultAsJSON(\"resultJson\")\n",
    "  .forGeocode(\"PreciselyGeocode\")\n",
    ")\n",
    "\n",
    "df.createOrReplaceTempView(\"inputTable\")\n",
    "\n",
    "geocodeSqlDf = spark.sql(\"select *, PreciselyGeocode(map('addressLines[0]', ADDRESS, 'country', COUNTRY)) as result from inputTable\") \\\n",
    "        .persist().select(\"*\", \"result.*\").drop(\"result\")\n",
    "\n",
    "geocodeSqlDf.show(5)"
   ]
  }
 ],
 "metadata": {
  "application/vnd.databricks.v1+notebook": {
   "dashboards": [],
   "environmentMetadata": null,
   "language": "python",
   "notebookMetadata": {
    "mostRecentlyExecutedCommandWithImplicitDF": {
     "commandId": 2105252702019405,
     "dataframes": [
      "_sqldf"
     ]
    },
    "pythonIndentUnit": 2
   },
   "notebookName": "Geo_Addressing_Demo",
   "widgets": {}
  },
  "kernelspec": {
   "display_name": "Python 3",
   "language": "python",
   "name": "python3"
  },
  "language_info": {
   "name": "python",
   "version": "3.9.13"
  }
 },
 "nbformat": 4,
 "nbformat_minor": 0
}
